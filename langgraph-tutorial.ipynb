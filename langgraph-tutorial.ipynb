{
 "cells": [
  {
   "cell_type": "markdown",
   "id": "0ddde5a6-55db-4eac-b98e-7d47adfaa8a1",
   "metadata": {},
   "source": [
    "Reference: https://langchain-ai.github.io/langgraph/tutorials/introduction/#requirements"
   ]
  },
  {
   "cell_type": "markdown",
   "id": "cdb82ee2-aaa6-430c-8e99-644cdf6c0ecd",
   "metadata": {
    "jp-MarkdownHeadingCollapsed": true
   },
   "source": [
    "## Setup"
   ]
  },
  {
   "cell_type": "code",
   "execution_count": null,
   "id": "cdcb678c-dd23-49f0-af36-1d08d9660db8",
   "metadata": {},
   "outputs": [],
   "source": [
    "!pip install -U langgraph langsmith langchain_anthropic"
   ]
  },
  {
   "cell_type": "code",
   "execution_count": 1,
   "id": "1bdfa996-b4ab-4a04-9823-deedc6b87d70",
   "metadata": {},
   "outputs": [
    {
     "name": "stdin",
     "output_type": "stream",
     "text": [
      "ANTHROPIC_API_KEY:  ········\n"
     ]
    }
   ],
   "source": [
    "import getpass\n",
    "import os\n",
    "\n",
    "\n",
    "def _set_env(var: str):\n",
    "    if not os.environ.get(var):\n",
    "        os.environ[var] = getpass.getpass(f\"{var}: \")\n",
    "\n",
    "\n",
    "_set_env(\"ANTHROPIC_API_KEY\")"
   ]
  },
  {
   "cell_type": "markdown",
   "id": "b6ba7097-254d-4a77-a489-af798a6316f4",
   "metadata": {
    "jp-MarkdownHeadingCollapsed": true
   },
   "source": [
    "## Part1: Build a Basic Chatbot"
   ]
  },
  {
   "cell_type": "markdown",
   "id": "6ebbc2b7-c2f5-469c-8a66-d5c2ad1223f5",
   "metadata": {},
   "source": [
    "**LangGraph로 Graph 정의하는 방법**\n",
    "1. State 정의\n",
    "    - 그래프의 State는 데이터를 저장하고 관리하는 방식(구조)을 정의한 것\n",
    "    - State는 보통 TypedDict라는 형태로, 여러 키-값 쌍을 가질 수 있음. (여기서는 State가 messages라는 단일 키를 가짐)\n",
    "\n",
    "2. Reducer 함수\n",
    "    - messages라는 키는 add_messages라는 특별한 함수(리듀서 함수)가 함께 지정되어 있음\n",
    "    - add_messages 함수는 messages 리스트에 새로운 항목을 추가하는 방식으로 동작 (기존의 messages 리스트를 덮어쓰지 않고 새 메시지를 리스트 끝에 추가하게 되는 것)\n",
    "    - 만약 어떤 키가 리듀서 함수 없이 정의된다면, 그 키는 업데이트할 때마다 가장 최근 값으로 덮어쓰기된다.\n",
    "  \n",
    "\n",
    "**Graph 동작원리**\n",
    "1. 모든 노드는 현재의 State를 입력으로 받고, 해당 State를 업데이트하는 값(출력)을 반환\n",
    "2. 이 예제에서는 messages는 add_messages 함수를 사용해 값을 추가하는 방식으로 업데이트되며,\n",
    "3. 이렇게 함으로써 기존 메시지가 유지되며, 새로운 메시지만 리스트에 이어 붙는 것\n"
   ]
  },
  {
   "cell_type": "code",
   "execution_count": 2,
   "id": "aa465d32-8768-4321-beef-2fb85b34acc3",
   "metadata": {},
   "outputs": [],
   "source": [
    "from typing import Annotated\n",
    "\n",
    "from typing_extensions import TypedDict\n",
    "\n",
    "from langgraph.graph import StateGraph, START, END\n",
    "from langgraph.graph.message import add_messages\n",
    "\n",
    "\n",
    "class State(TypedDict):\n",
    "    # Messages have the type \"list\". The `add_messages` function\n",
    "    # in the annotation defines how this state key should be updated\n",
    "    # (in this case, it appends messages to the list, rather than overwriting them)\n",
    "    messages: Annotated[list, add_messages]\n",
    "\n",
    "graph_builder = StateGraph(State)"
   ]
  },
  {
   "cell_type": "markdown",
   "id": "6f3af615-1ee5-469a-854f-383d9a633a4d",
   "metadata": {},
   "source": [
    "**chatbot 노드 추가**\n",
    "- 노드(node)는 실제로 작업을 수행하는 단위로, 일반적인 Python 함수처럼 작동\n",
    "\n",
    "\n",
    "**챗봇 노드 함수의 동작방식**\n",
    "- 챗봇 노드 함수는 현재의 State(상태)를 입력으로 받아서 처리한 후, 업데이트된 messages 리스트를 포함하는 딕셔너리를 반환\n",
    "- 이 패턴은 LangGraph에서 모든 노드 함수가 따르는 기본 패턴\n",
    "-  즉, 각 노드 함수는 현재 State를 참고하여 처리한 결과를 다시 State에 반영하는 구조"
   ]
  },
  {
   "cell_type": "code",
   "execution_count": 3,
   "id": "59ed6b57-9ed7-45c5-999c-38d8bd5db63e",
   "metadata": {},
   "outputs": [
    {
     "data": {
      "text/plain": [
       "<langgraph.graph.state.StateGraph at 0x107bf28f0>"
      ]
     },
     "execution_count": 3,
     "metadata": {},
     "output_type": "execute_result"
    }
   ],
   "source": [
    "from langchain_anthropic import ChatAnthropic\n",
    "\n",
    "llm = ChatAnthropic(model='claude-3-5-sonnet-20240620')\n",
    "\n",
    "def chatbot(state: State):\n",
    "    return {\"messages\": [llm.invoke(state['messages'])]}\n",
    "\n",
    "# The first argument is the unique node name\n",
    "# The second argument is the function or object that will be called whenever\n",
    "# the node is used.\n",
    "graph_builder.add_node(\"chatbot\", chatbot)"
   ]
  },
  {
   "cell_type": "markdown",
   "id": "4f15d496-8db4-4875-aa03-b06295a56731",
   "metadata": {},
   "source": [
    "**시작점 설정**\n",
    "- 그래프가 실행될 때 어디서부터 시작할지를 지정"
   ]
  },
  {
   "cell_type": "code",
   "execution_count": 4,
   "id": "e14fe068-078f-4f53-b93f-9526aa925590",
   "metadata": {},
   "outputs": [
    {
     "data": {
      "text/plain": [
       "<langgraph.graph.state.StateGraph at 0x107bf28f0>"
      ]
     },
     "execution_count": 4,
     "metadata": {},
     "output_type": "execute_result"
    }
   ],
   "source": [
    "graph_builder.add_edge(START, \"chatbot\")"
   ]
  },
  {
   "cell_type": "markdown",
   "id": "9074c5f2-0ad9-4118-bcbb-4b8bb6f1b56b",
   "metadata": {},
   "source": [
    "**끝점 설정**\n",
    "- 그래프가 특정 노드에서 종료될 수 있도록 끝점(종료 지점)도 설정"
   ]
  },
  {
   "cell_type": "code",
   "execution_count": 5,
   "id": "d21ef2f4-8405-4378-b293-413d420c2a64",
   "metadata": {},
   "outputs": [
    {
     "data": {
      "text/plain": [
       "<langgraph.graph.state.StateGraph at 0x107bf28f0>"
      ]
     },
     "execution_count": 5,
     "metadata": {},
     "output_type": "execute_result"
    }
   ],
   "source": [
    "graph_builder.add_edge(\"chatbot\", END)"
   ]
  },
  {
   "cell_type": "markdown",
   "id": "77c8febb-d583-4192-8f51-15c75f2761bc",
   "metadata": {},
   "source": [
    "**그래프 컴파일**\n",
    "- 그래프를 실행 가능하게 컴파일(compile)"
   ]
  },
  {
   "cell_type": "code",
   "execution_count": 6,
   "id": "a91fab60-610e-490b-b4e9-9590806d0d8d",
   "metadata": {},
   "outputs": [],
   "source": [
    "graph = graph_builder.compile()"
   ]
  },
  {
   "cell_type": "markdown",
   "id": "b5262e3b-4645-4d10-9da0-985b461d6ae1",
   "metadata": {},
   "source": [
    "**그래프 시각화**"
   ]
  },
  {
   "cell_type": "code",
   "execution_count": 7,
   "id": "4b9e7bf9-e55a-4481-876b-226316d6236e",
   "metadata": {},
   "outputs": [
    {
     "data": {
      "image/jpeg": "[encoded data removed]",
      "text/plain": [
       "<IPython.core.display.Image object>"
      ]
     },
     "metadata": {},
     "output_type": "display_data"
    }
   ],
   "source": [
    "from IPython.display import Image, display\n",
    "\n",
    "try:\n",
    "    display(Image(graph.get_graph().draw_mermaid_png()))\n",
    "except Exception:\n",
    "    # This requires some extra dependencies and is optional\n",
    "    pass"
   ]
  },
  {
   "cell_type": "markdown",
   "id": "780b6c4c-7135-4437-b074-a92c911da5dc",
   "metadata": {},
   "source": [
    "**Run Chatbot**"
   ]
  },
  {
   "cell_type": "code",
   "execution_count": 8,
   "id": "2a47ad02-a3b1-4cb8-b162-a40f83e8ab80",
   "metadata": {},
   "outputs": [
    {
     "name": "stdin",
     "output_type": "stream",
     "text": [
      "User:  안녕 내이름은 이세은\n"
     ]
    },
    {
     "name": "stdout",
     "output_type": "stream",
     "text": [
      "Assistant: 안녕하세요 이세은님! 만나서 반갑습니다. 저는 AI 어시스턴트입니다. 오늘 무엇을 도와드릴까요? 궁금한 점이 있으시면 언제든 물어보세요.\n"
     ]
    },
    {
     "name": "stdin",
     "output_type": "stream",
     "text": [
      "User:  LangGraph에 대해서 알아?\n"
     ]
    },
    {
     "name": "stdout",
     "output_type": "stream",
     "text": [
      "Assistant: LangGraph는 최근에 등장한 라이브러리로, 대규모 언어 모델(LLM)을 사용하여 복잡한 작업 흐름을 구성하고 관리하는 데 도움을 주는 도구입니다. 이 라이브러리는 LangChain 팀에 의해 개발되었으며, LangChain 생태계의 일부입니다.\n",
      "\n",
      "LangGraph의 주요 특징과 개념은 다음과 같습니다:\n",
      "\n",
      "1. 그래프 기반 접근: 복잡한 작업을 노드와 엣지로 구성된 그래프로 표현합니다.\n",
      "\n",
      "2. 상태 관리: 작업 흐름 내에서 상태를 효과적으로 관리할 수 있습니다.\n",
      "\n",
      "3. LLM과의 통합: 대규모 언어 모델을 작업 흐름에 쉽게 통합할 수 있습니다.\n",
      "\n",
      "4. 유연성: 다양한 유형의 작업 흐름을 구성할 수 있어 다양한 응용 프로그램에 적용 가능합니다.\n",
      "\n",
      "5. 재사용성: 작업 흐름의 구성 요소를 쉽게 재사용하고 조합할 수 있습니다.\n",
      "\n",
      "LangGraph는 특히 다음과 같은 상황에서 유용합니다:\n",
      "\n",
      "- 복잡한 대화 시스템 구축\n",
      "- 다단계 추론 프로세스 구현\n",
      "- 동적인 작업 흐름 관리\n",
      "- AI 에이전트 시스템 개발\n",
      "\n",
      "이 라이브러리는 아직 초기 단계에 있지만, LLM을 활용한 복잡한 시스템을 구축하는 데 있어 강력한 도구가 될 것으로 기대됩니다.\n"
     ]
    },
    {
     "name": "stdin",
     "output_type": "stream",
     "text": [
      "User:  q\n"
     ]
    },
    {
     "name": "stdout",
     "output_type": "stream",
     "text": [
      "Goodbye !\n"
     ]
    }
   ],
   "source": [
    "def stream_graph_updates(user_input: str):\n",
    "    for event in graph.stream({\"messages\": [(\"user\", user_input)]}):\n",
    "        for value in event.values():\n",
    "            print(\"Assistant:\", value['messages'][-1].content)\n",
    "\n",
    "\n",
    "while True:\n",
    "    try:\n",
    "        user_input = input(\"User: \")\n",
    "        if user_input.lower() in ['quit', 'exit', 'q']:\n",
    "            print(\"Goodbye !\")\n",
    "            break\n",
    "\n",
    "        stream_graph_updates(user_input)\n",
    "    except:\n",
    "        # fallback if input() is not available\n",
    "        user_input = \"What do you know about LangGraph?\"\n",
    "        print(\"User: \" + user_input)\n",
    "        stream_graph_updates(user_input)\n",
    "        break"
   ]
  },
  {
   "cell_type": "markdown",
   "id": "420370ab-19f3-4a0d-8cec-8d4b70bb495c",
   "metadata": {
    "jp-MarkdownHeadingCollapsed": true
   },
   "source": [
    "## Part2: Enhancing the Chatbot with Tools\n",
    "- LangGraph로 만든 챗봇을 웹 검색 기능을 추가하여 강화하는 방법"
   ]
  },
  {
   "cell_type": "code",
   "execution_count": null,
   "id": "c7504727-a216-4c05-92f5-1f1710d05da6",
   "metadata": {},
   "outputs": [],
   "source": [
    "!pip install -U tavily-python langchain_community"
   ]
  },
  {
   "cell_type": "code",
   "execution_count": 9,
   "id": "a5145807-0181-4c77-b216-07e375c02a5e",
   "metadata": {},
   "outputs": [
    {
     "name": "stdin",
     "output_type": "stream",
     "text": [
      "TAVILY_API_KEY:  ········\n"
     ]
    }
   ],
   "source": [
    "_set_env(\"TAVILY_API_KEY\")"
   ]
  },
  {
   "cell_type": "markdown",
   "id": "e7ee8596-e820-4bec-965d-8c51c16a1f5a",
   "metadata": {},
   "source": [
    "**Define the tool**"
   ]
  },
  {
   "cell_type": "code",
   "execution_count": 10,
   "id": "e9e8e998-8348-4b9d-91ff-3b08e276b7be",
   "metadata": {},
   "outputs": [
    {
     "data": {
      "text/plain": [
       "[{'url': 'https://medium.com/@cplog/introduction-to-langgraph-a-beginners-guide-14f9be027141',\n",
       "  'content': 'Nodes: Nodes are the building blocks of your LangGraph. Each node represents a function or a computation step. You define nodes to perform specific tasks, such as processing input, making'},\n",
       " {'url': 'https://www.datacamp.com/tutorial/langgraph-tutorial',\n",
       "  'content': \"In LangGraph, each node represents an LLM agent, and the edges are the communication channels between these agents. This structure allows for clear and manageable workflows, where each agent performs specific tasks and passes information to other agents as needed. State management. One of LangGraph's standout features is its automatic state\"}]"
      ]
     },
     "execution_count": 10,
     "metadata": {},
     "output_type": "execute_result"
    }
   ],
   "source": [
    "from langchain_community.tools.tavily_search import TavilySearchResults\n",
    "\n",
    "tool = TavilySearchResults(max_results=2)\n",
    "tools = [tool]\n",
    "tool.invoke(\"What's a 'node' in LangGraph?\")"
   ]
  },
  {
   "cell_type": "markdown",
   "id": "61214b2f-adc8-43d5-8fa7-9245068c865f",
   "metadata": {},
   "source": [
    "- \"What's a 'node' in LangGraph?\"라는 질문에 대해 tool.invoke 메서드를 사용하면 Tavily 검색 엔진에서 관련 정보를 찾아 반환\n",
    "- 검색 결과는 요약된 페이지 내용으로 제공되며, 챗봇이 답변을 생성하는 데 사용할 수 있음"
   ]
  },
  {
   "cell_type": "markdown",
   "id": "7f70006e-b73a-41b1-9950-0b97ed12210e",
   "metadata": {},
   "source": [
    "**Define graph**\n",
    "- Part1과 거의 동일\n",
    "- 다만 bind_tools를 통해 LLM(대형 언어 모델)에 검색 도구를 연동\n",
    "- 이렇게 하면 LLM이 JSON 형식으로 검색 도구를 호출하여 필요한 정보를 사용할 수 있게 된다."
   ]
  },
  {
   "cell_type": "code",
   "execution_count": 12,
   "id": "20048241-93c7-435c-9d0a-478c940ebce0",
   "metadata": {},
   "outputs": [
    {
     "data": {
      "text/plain": [
       "<langgraph.graph.state.StateGraph at 0x10ab115d0>"
      ]
     },
     "execution_count": 12,
     "metadata": {},
     "output_type": "execute_result"
    }
   ],
   "source": [
    "from typing import Annotated\n",
    "\n",
    "from langchain_anthropic import ChatAnthropic\n",
    "from typing_extensions import TypedDict\n",
    "\n",
    "from langgraph.graph import StateGraph, START, END\n",
    "from langgraph.graph.message import add_messages\n",
    "\n",
    "\n",
    "class State(TypedDict):\n",
    "    messages: Annotated[list, add_messages]\n",
    "\n",
    "graph_builder = StateGraph(State)\n",
    "\n",
    "llm = ChatAnthropic(model=\"claude-3-5-sonnet-20240620\")\n",
    "# Modification: tell the LLM with tools it can call\n",
    "llm_with_tools = llm.bind_tools(tools)\n",
    "\n",
    "\n",
    "def chatbot(state:State):\n",
    "    return {\"messages\": [llm_with_tools.invoke(state['messages'])]}\n",
    "\n",
    "graph_builder.add_node(\"chatbot\", chatbot)"
   ]
  },
  {
   "cell_type": "markdown",
   "id": "f6158c9f-6e18-46f6-bcb6-8e0058090bcb",
   "metadata": {},
   "source": [
    "**도구 호출 기능에 필요한 함수 추가**\n",
    "- 사용자가 요청한 검색 도구를 호출하는 새로운 노드를 추가하여, 챗봇이 필요한 경우 검색 도구를 사용할 수 있도록한다.\n",
    "\n",
    "1. **BasicToolNode 생성하기**\n",
    "   - `BasicToolNode`라는 새로운 노드를 만들어, 이 노드가 최근 메시지에서 도구 호출 요청(`tool_calls`)을 확인하도록 합니다.\n",
    "   - 만약 메시지에 `tool_calls`가 포함되어 있으면, 정의된 도구를 호출해 정보를 검색합니다.\n",
    "   \n",
    "2. **도구 호출 지원**\n",
    "   - 이 노드는 LLM(대형 언어 모델)의 도구 호출 기능을 활용해 작동합니다. Anthropic, OpenAI, Google Gemini 등 여러 LLM 제공 업체들이 이러한 도구 호출 기능을 지원합니다.\n",
    "\n",
    "3. **LangGraph의 내장 ToolNode**\n",
    "   - 이 과정을 수동으로 구현한 후에는 LangGraph에 내장된 `ToolNode`를 사용하여, 보다 빠르게 도구 호출 기능을 설정할 수 있습니다.\n",
    "   - 하지만, 처음에는 직접 `BasicToolNode`를 만들어 보는 것이 학습에 도움이 되기 때문에, 먼저 수동으로 구현해보는 것입니다."
   ]
  },
  {
   "cell_type": "code",
   "execution_count": 14,
   "id": "9747585d-69d1-4ad9-9d9c-5f2a55861698",
   "metadata": {},
   "outputs": [
    {
     "data": {
      "text/plain": [
       "<langgraph.graph.state.StateGraph at 0x10ab115d0>"
      ]
     },
     "execution_count": 14,
     "metadata": {},
     "output_type": "execute_result"
    }
   ],
   "source": [
    "import json\n",
    "\n",
    "from langchain_core.messages import ToolMessage\n",
    "\n",
    "\n",
    "class BasicToolNode:\n",
    "    \"\"\"A node that runs the tools requested in the last AIMessage\"\"\"\n",
    "    \"\"\"마지막 AI메시지에서 요청한 도구를 실행하는 노드\"\"\"\n",
    "\n",
    "    def __init__(self, tools: list) -> None:\n",
    "        self.tools_by_name = {tool.name: tool for tool in tools}\n",
    "\n",
    "    def __call__(self, inputs: dict):\n",
    "        if messages := inputs.get(\"messages\", []):\n",
    "            message = messages[-1]\n",
    "        else:\n",
    "            raise ValueError(\"No message found in input\")\n",
    "        outputs = []\n",
    "        for tool_call in message.tool_calls:\n",
    "            tool_result = self.tools_by_name[tool_call['name']].invoke(\n",
    "                tool_call['args']\n",
    "            )\n",
    "            outputs.append(\n",
    "                ToolMessage(\n",
    "                    content=json.dumps(tool_result),\n",
    "                    name=tool_call['name'],\n",
    "                    tool_call_id=tool_call['id'],\n",
    "                )\n",
    "            )\n",
    "        return {'messages': outputs}\n",
    "\n",
    "tool_node = BasicToolNode(tools=[tool])\n",
    "graph_builder.add_node(\"tools\", tool_node)"
   ]
  },
  {
   "cell_type": "markdown",
   "id": "dd75f219-d56b-420a-bf27-31a8e5e7a297",
   "metadata": {},
   "source": [
    "**조건부 엣지 정의하기**\n",
    "\n",
    "1. **엣지(Edges)란?**\n",
    "   - 엣지는 그래프에서 한 노드에서 다른 노드로 제어 흐름을 이동시키는 연결입니다. \n",
    "   - **조건부 엣지**는 특정 조건을 기반으로 다음 노드로 이동하게 합니다. 일반적으로 \"if\" 문을 사용하여 현재 그래프 상태에 따라 다른 노드로 라우팅됩니다.\n",
    "\n",
    "2. **라우터 함수 정의: `route_tools`**\n",
    "   - **라우터 함수**는 `tool_calls`가 챗봇의 출력에 있는지 확인하고, 그에 따라 다음으로 호출할 노드를 결정합니다. \n",
    "   - 이 함수는 현재 그래프 상태를 받고, 다음에 호출할 노드의 이름을 문자열 또는 문자열 리스트로 반환합니다.\n",
    "\n",
    "3. **조건부 엣지 추가**\n",
    "   - `add_conditional_edges` 메서드를 사용하여 그래프에 이 라우터 함수를 추가합니다. \n",
    "   - 이렇게 하면 챗봇 노드가 완료될 때마다 `route_tools` 함수를 호출하여 다음 노드로 어디로 이동할지를 확인합니다."
   ]
  },
  {
   "cell_type": "code",
   "execution_count": 15,
   "id": "e015a2c4-28de-4b5f-b621-460da2585fbe",
   "metadata": {},
   "outputs": [],
   "source": [
    "from typing import Literal\n",
    "\n",
    "\n",
    "def route_tools(\n",
    "    state: State,\n",
    "):\n",
    "    \"\"\"\n",
    "    Use in the conditional_edge to route to the ToolNode if the last message has tool calls.\n",
    "    Otherwise, route to the end.\n",
    "    \"\"\"\n",
    "    if isinstance(state, list):\n",
    "        ai_message = state[-1]\n",
    "    elif messages := state.get('messages', []):\n",
    "        ai_message = messages[-1]\n",
    "    else: \n",
    "        raise ValueError(f\"No messages found in input state to tool_edge: {state}\")\n",
    "\n",
    "    if hasattr(ai_message, \"tool_calls\") and len(ai_message.tool_calls) > 0:\n",
    "        return \"tools\"\n",
    "    return END\n",
    "\n",
    "\n",
    "# The 'tools_condition' function returns \"tools\" if the chatbot asks to use a tool, \n",
    "# and \"END\" it is fine directly responding\n",
    "# This conditional routing defines the main agent loop.\n",
    "graph_builder.add_conditional_edges(\n",
    "    \"chatbot\",\n",
    "    route_tools,\n",
    "    {\"tools\": \"tools\", END: END}, \n",
    "    # 조건의 출력을 특정 노드로 해석하도록 지시하는 딕셔너리\n",
    "    # 기본적으로 tools라는 이름의 노드로 해석되지만, 다른 이름으로도 지정할 수 있습니다.\n",
    ")\n",
    "\n",
    "# Any time a tool is called, we return to the chatbot to decide the next step\n",
    "graph_builder.add_edge(\"tools\", \"chatbot\")\n",
    "graph_builder.add_edge(START, \"chatbot\")\n",
    "graph = graph_builder.compile()"
   ]
  },
  {
   "cell_type": "markdown",
   "id": "bc4072ac-34f2-4ee5-b833-7ce96500aa43",
   "metadata": {},
   "source": [
    "**흐름 및 작동 방식**\n",
    "\n",
    "- **도구 호출 확인**: `route_tools` 함수는 챗봇의 출력에서 `tool_calls`가 있는지 검사합니다.\n",
    "  - 만약 `tool_calls`가 있다면, 다음으로 도구를 호출하는 노드로 흐름을 이동시킵니다.\n",
    "  - 반대로 `tool_calls`가 없다면, 흐름을 `END` 노드로 이동시킵니다. 이때 `END`는 그래프 실행의 종료를 나타냅니다.\n",
    "\n",
    "- **미래 계획**: 나중에 `tools_condition`이라는 내장된 기능으로 이 로직을 더 간결하게 구현할 수 있지만, 처음에 직접 구현해보는 것이 이해에 도움이 됩니다\n",
    "\n",
    "> *Note* <br>\n",
    "> 조건부 에지는 단일 노드에서 시작 <br>\n",
    "> 도구 호출이 이루어지지 않으면 함수는 END 문자열을 반환 <br>\n",
    "> 그래프가 END로 전환되면 더 이상 완료해야 할 작업이 없고 실행이 중단 <br> \n",
    "> 조건이 END를 반환할 수 있기 때문에 이번에는 finish_point를 명시적으로 설정할 필요가 없음 <br>"
   ]
  },
  {
   "cell_type": "code",
   "execution_count": 16,
   "id": "a08ca6fa-7e83-417b-9d3f-585b13fd01a2",
   "metadata": {},
   "outputs": [
    {
     "data": {
      "image/jpeg": "[encoded data removed]",
      "text/plain": [
       "<IPython.core.display.Image object>"
      ]
     },
     "metadata": {},
     "output_type": "display_data"
    }
   ],
   "source": [
    "from IPython.display import Image, display\n",
    "\n",
    "try:\n",
    "    display(Image(graph.get_graph().draw_mermaid_png()))\n",
    "except Exception:\n",
    "    # This requires some extra dependencies and is optional\n",
    "    pass"
   ]
  },
  {
   "cell_type": "markdown",
   "id": "eb408408-924c-4263-a3cc-10992779a0b7",
   "metadata": {},
   "source": [
    "**Run Chatbot**"
   ]
  },
  {
   "cell_type": "code",
   "execution_count": 17,
   "id": "6246c4fb-7965-4cab-86ce-74f959ebe163",
   "metadata": {},
   "outputs": [
    {
     "name": "stdin",
     "output_type": "stream",
     "text": [
      "User:  What do you know about LangGraph?\n"
     ]
    },
    {
     "name": "stdout",
     "output_type": "stream",
     "text": [
      "Assistant: [{'text': \"To provide you with accurate and up-to-date information about LangGraph, I'll need to search for the latest details. Let me do that for you.\", 'type': 'text'}, {'id': 'toolu_01Axr63DNKKy8nbZw7kR23Ah', 'input': {'query': 'LangGraph AI tool information'}, 'name': 'tavily_search_results_json', 'type': 'tool_use'}]\n",
      "Assistant: [{\"url\": \"https://github.com/langchain-ai/langgraph\", \"content\": \"Overview. LangGraph is a library for building stateful, multi-actor applications with LLMs, used to create agent and multi-agent workflows. Compared to other LLM frameworks, it offers these core benefits: cycles, controllability, and persistence. LangGraph allows you to define flows that involve cycles, essential for most agentic architectures\"}, {\"url\": \"https://www.langchain.com/langgraph\", \"content\": \"LangGraph sets the foundation for how we can build and scale AI workloads \\u2014 from conversational agents, complex task automation, to custom LLM-backed experiences that 'just work'. The next chapter in building complex production-ready features with LLMs is agentic, and with LangGraph and LangSmith, LangChain delivers an out-of-the-box solution\"}]\n",
      "Assistant: Based on the search results, I can provide you with information about LangGraph:\n",
      "\n",
      "1. Purpose: LangGraph is a library designed for building stateful, multi-actor applications with Large Language Models (LLMs). It's particularly useful for creating agent and multi-agent workflows.\n",
      "\n",
      "2. Developer: LangGraph is developed by LangChain, a company focused on AI and language model technologies.\n",
      "\n",
      "3. Key Features:\n",
      "   a. Cycles: LangGraph allows you to define flows that involve cycles, which are essential for most agent architectures.\n",
      "   b. Controllability: It offers enhanced control over the AI workflows.\n",
      "   c. Persistence: The library supports persistent states in applications.\n",
      "\n",
      "4. Comparison to Other Frameworks: LangGraph offers core benefits that set it apart from other LLM frameworks, particularly in its ability to handle complex, stateful interactions.\n",
      "\n",
      "5. Integration: LangGraph is designed to work alongside LangChain's other tools, particularly LangSmith, to provide a comprehensive solution for building production-ready AI features.\n",
      "\n",
      "6. Use Cases: It's suitable for a variety of applications, including:\n",
      "   - Conversational agents\n",
      "   - Complex task automation\n",
      "   - Custom LLM-backed experiences\n",
      "\n",
      "7. Significance: LangGraph is considered by its creators as setting the foundation for building and scaling AI workloads. It's positioned as a key tool for the next chapter in developing complex, production-ready features with LLMs, especially those requiring agentic capabilities.\n",
      "\n",
      "8. Availability: The library is open-source and available on GitHub, allowing developers to contribute to and utilize the technology.\n",
      "\n",
      "LangGraph represents an important development in the field of AI and language models, particularly for those looking to create more complex, interactive, and stateful applications using LLMs. It's part of a broader ecosystem of tools aimed at making advanced AI applications more accessible and manageable for developers and businesses.\n"
     ]
    },
    {
     "name": "stdin",
     "output_type": "stream",
     "text": [
      "User:  q\n"
     ]
    },
    {
     "name": "stdout",
     "output_type": "stream",
     "text": [
      "Goodbye!\n"
     ]
    }
   ],
   "source": [
    "while True:\n",
    "    try:\n",
    "        user_input = input(\"User: \")\n",
    "        if user_input.lower() in [\"quit\", \"exit\", \"q\"]:\n",
    "            print(\"Goodbye!\")\n",
    "            break\n",
    "\n",
    "        stream_graph_updates(user_input)\n",
    "    except:\n",
    "        # fallback if input() is not available\n",
    "        user_input = \"What do you know about LangGraph?\"\n",
    "        print(\"User: \" + user_input)\n",
    "        stream_graph_updates(user_input)\n",
    "        break"
   ]
  },
  {
   "cell_type": "code",
   "execution_count": null,
   "id": "623c9d76-6e1f-4083-8431-b80c4a16fef9",
   "metadata": {},
   "outputs": [],
   "source": []
  },
  {
   "cell_type": "code",
   "execution_count": null,
   "id": "c8d02ed7-620c-4e3f-9a6e-3f6cc70f71cf",
   "metadata": {},
   "outputs": [],
   "source": []
  },
  {
   "cell_type": "code",
   "execution_count": null,
   "id": "8f406624-45e5-439d-b13c-f7f3ec990807",
   "metadata": {},
   "outputs": [],
   "source": []
  },
  {
   "cell_type": "code",
   "execution_count": null,
   "id": "022b906b-9bbb-4106-914f-25fd8ca8e631",
   "metadata": {},
   "outputs": [],
   "source": []
  },
  {
   "cell_type": "code",
   "execution_count": null,
   "id": "f437001e-def7-4f91-910c-352c11f79d43",
   "metadata": {},
   "outputs": [],
   "source": []
  },
  {
   "cell_type": "code",
   "execution_count": null,
   "id": "e5029a5d-0cf7-4e75-b480-7bba6ba58b74",
   "metadata": {},
   "outputs": [],
   "source": []
  }
 ],
 "metadata": {
  "kernelspec": {
   "display_name": "lang",
   "language": "python",
   "name": "lang"
  },
  "language_info": {
   "codemirror_mode": {
    "name": "ipython",
    "version": 3
   },
   "file_extension": ".py",
   "mimetype": "text/x-python",
   "name": "python",
   "nbconvert_exporter": "python",
   "pygments_lexer": "ipython3",
   "version": "3.10.15"
  }
 },
 "nbformat": 4,
 "nbformat_minor": 5
}
